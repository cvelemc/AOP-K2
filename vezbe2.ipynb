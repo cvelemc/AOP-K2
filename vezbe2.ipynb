{
  "nbformat": 4,
  "nbformat_minor": 0,
  "metadata": {
    "colab": {
      "name": "vezbe2.ipynb",
      "provenance": [],
      "collapsed_sections": [
        "5UKW8uFpGbeD",
        "LofviR6dXrIs",
        "TIjYODm5Xx7L",
        "LWTu6EGcXc1_",
        "ok2pcbQaYyZY",
        "7kSGqHyYagck",
        "y35r3deuir1h",
        "_lZsP6bPlfya",
        "m4SxNWlRmEa4",
        "YBCsNnbonLIN"
      ]
    },
    "kernelspec": {
      "name": "python3",
      "display_name": "Python 3"
    }
  },
  "cells": [
    {
      "cell_type": "markdown",
      "metadata": {
        "id": "5UKW8uFpGbeD",
        "colab_type": "text"
      },
      "source": [
        "## VEZBA 2"
      ]
    },
    {
      "cell_type": "code",
      "metadata": {
        "id": "MzsaPCn7Gd96",
        "colab_type": "code",
        "colab": {
          "base_uri": "https://localhost:8080/",
          "height": 34
        },
        "outputId": "90c42784-b45e-449b-9479-b56b47276e12"
      },
      "source": [
        "x=1\n",
        "if x == 1:\n",
        "  print('x has a value of 1')\n",
        "else:\n",
        "  print('x does not have a value of 1')"
      ],
      "execution_count": 7,
      "outputs": [
        {
          "output_type": "stream",
          "text": [
            "x has a value of 1\n"
          ],
          "name": "stdout"
        }
      ]
    },
    {
      "cell_type": "code",
      "metadata": {
        "id": "XdMv-aWaKqzU",
        "colab_type": "code",
        "colab": {
          "base_uri": "https://localhost:8080/",
          "height": 34
        },
        "outputId": "7fffb87e-87e1-4d09-d335-1fbad02f3f02"
      },
      "source": [
        "Complex = 2 + 8j\n",
        "print(Complex)"
      ],
      "execution_count": 8,
      "outputs": [
        {
          "output_type": "stream",
          "text": [
            "(2+8j)\n"
          ],
          "name": "stdout"
        }
      ]
    },
    {
      "cell_type": "markdown",
      "metadata": {
        "id": "LofviR6dXrIs",
        "colab_type": "text"
      },
      "source": [
        "## LISTE TOUPLE RECNICI"
      ]
    },
    {
      "cell_type": "code",
      "metadata": {
        "id": "NUBmF5SmM-1W",
        "colab_type": "code",
        "colab": {
          "base_uri": "https://localhost:8080/",
          "height": 34
        },
        "outputId": "89704c4c-f07a-40bd-ee9f-a7f09eec8c45"
      },
      "source": [
        "List=[1, True, \"DATA\"] #Vrednosti se mogu menjati\n",
        "List"
      ],
      "execution_count": 10,
      "outputs": [
        {
          "output_type": "execute_result",
          "data": {
            "text/plain": [
              "[1, True, 'DATA']"
            ]
          },
          "metadata": {
            "tags": []
          },
          "execution_count": 10
        }
      ]
    },
    {
      "cell_type": "code",
      "metadata": {
        "id": "tZCjYqebN5lr",
        "colab_type": "code",
        "colab": {
          "base_uri": "https://localhost:8080/",
          "height": 34
        },
        "outputId": "8809ba4f-ea8b-417a-c9e2-d79113ebe96f"
      },
      "source": [
        "Tuple = (1, True, \"ML\") #Vrednosti se ne mogu menjati\n",
        "Tuple"
      ],
      "execution_count": 11,
      "outputs": [
        {
          "output_type": "execute_result",
          "data": {
            "text/plain": [
              "(1, True, 'ML')"
            ]
          },
          "metadata": {
            "tags": []
          },
          "execution_count": 11
        }
      ]
    },
    {
      "cell_type": "code",
      "metadata": {
        "id": "zVZ2zohFOPaa",
        "colab_type": "code",
        "colab": {
          "base_uri": "https://localhost:8080/",
          "height": 34
        },
        "outputId": "9e38b8d5-9279-4481-b945-259408c383bd"
      },
      "source": [
        "A = set([1,1,1,2,2,5])\n",
        "A"
      ],
      "execution_count": 12,
      "outputs": [
        {
          "output_type": "execute_result",
          "data": {
            "text/plain": [
              "{1, 2, 5}"
            ]
          },
          "metadata": {
            "tags": []
          },
          "execution_count": 12
        }
      ]
    },
    {
      "cell_type": "code",
      "metadata": {
        "id": "ZpWbDhcsOnMo",
        "colab_type": "code",
        "colab": {
          "base_uri": "https://localhost:8080/",
          "height": 34
        },
        "outputId": "bdeaced0-ee63-4e0d-a0ce-1c3e8a288e18"
      },
      "source": [
        "dd={\n",
        "    \"a\" : \"A\",\n",
        "    2: \"AA\"\n",
        "}\n",
        "dd #Recnik"
      ],
      "execution_count": 13,
      "outputs": [
        {
          "output_type": "execute_result",
          "data": {
            "text/plain": [
              "{2: 'AA', 'a': 'A'}"
            ]
          },
          "metadata": {
            "tags": []
          },
          "execution_count": 13
        }
      ]
    },
    {
      "cell_type": "markdown",
      "metadata": {
        "id": "TIjYODm5Xx7L",
        "colab_type": "text"
      },
      "source": [
        "## PRENOSENJA U NOVI RED I NAREDBE"
      ]
    },
    {
      "cell_type": "code",
      "metadata": {
        "id": "KtTbY52ZT4gY",
        "colab_type": "code",
        "colab": {
          "base_uri": "https://localhost:8080/",
          "height": 34
        },
        "outputId": "68d9d4ef-6338-4f28-d329-562baa65c029"
      },
      "source": [
        "x=(\"1\"+\"2\"+    #implicitno prenosenje u drugi red\n",
        "   \"3\"+\"4\")\n",
        "x"
      ],
      "execution_count": 14,
      "outputs": [
        {
          "output_type": "execute_result",
          "data": {
            "text/plain": [
              "'1234'"
            ]
          },
          "metadata": {
            "tags": []
          },
          "execution_count": 14
        }
      ]
    },
    {
      "cell_type": "code",
      "metadata": {
        "id": "fLe9lpDZVOPd",
        "colab_type": "code",
        "colab": {
          "base_uri": "https://localhost:8080/",
          "height": 34
        },
        "outputId": "4d7fed09-23d7-449f-ea28-272396aefedc"
      },
      "source": [
        "x=\"1\"+\"2\"+\\\n",
        "   \"3\"+\"4\"\n",
        "x #eksplicitno prenosenje u drugi red mora da se pazi da nakon \\ ne bude razmaka nego odma enter"
      ],
      "execution_count": 22,
      "outputs": [
        {
          "output_type": "execute_result",
          "data": {
            "text/plain": [
              "'1234'"
            ]
          },
          "metadata": {
            "tags": []
          },
          "execution_count": 22
        }
      ]
    },
    {
      "cell_type": "code",
      "metadata": {
        "id": "r6sUfOx0Viws",
        "colab_type": "code",
        "colab": {
          "base_uri": "https://localhost:8080/",
          "height": 34
        },
        "outputId": "365d4e5e-9ba6-43ad-9209-d03a99627f9f"
      },
      "source": [
        "#vise naredbi u jednom redu\n",
        "x=\"AOP\"; z=\"K2\"; print(x,z)"
      ],
      "execution_count": 25,
      "outputs": [
        {
          "output_type": "stream",
          "text": [
            "AOP K2\n"
          ],
          "name": "stdout"
        }
      ]
    },
    {
      "cell_type": "markdown",
      "metadata": {
        "id": "LWTu6EGcXc1_",
        "colab_type": "text"
      },
      "source": [
        "## Aritmetika"
      ]
    },
    {
      "cell_type": "code",
      "metadata": {
        "id": "KxS2nq38Xfwu",
        "colab_type": "code",
        "colab": {
          "base_uri": "https://localhost:8080/",
          "height": 34
        },
        "outputId": "d3f4c037-b604-47e6-cedb-894fcc9bbbe4"
      },
      "source": [
        "x=2; y=3; z=x+y; print(z)"
      ],
      "execution_count": 26,
      "outputs": [
        {
          "output_type": "stream",
          "text": [
            "5\n"
          ],
          "name": "stdout"
        }
      ]
    },
    {
      "cell_type": "code",
      "metadata": {
        "id": "_qCFuWciXlzu",
        "colab_type": "code",
        "colab": {
          "base_uri": "https://localhost:8080/",
          "height": 34
        },
        "outputId": "c1bfd3ff-ca2a-4737-9ae1-7e8ba7cf9a12"
      },
      "source": [
        "x=2;y=3;z=x/y; print(z)"
      ],
      "execution_count": 27,
      "outputs": [
        {
          "output_type": "stream",
          "text": [
            "0.6666666666666666\n"
          ],
          "name": "stdout"
        }
      ]
    },
    {
      "cell_type": "code",
      "metadata": {
        "id": "ayqilT-4X-QF",
        "colab_type": "code",
        "colab": {
          "base_uri": "https://localhost:8080/",
          "height": 34
        },
        "outputId": "871f8d36-dc4c-4374-833d-79c712828cd0"
      },
      "source": [
        "x=2;y=3;z=x%y; print(z)"
      ],
      "execution_count": 31,
      "outputs": [
        {
          "output_type": "stream",
          "text": [
            "2\n"
          ],
          "name": "stdout"
        }
      ]
    },
    {
      "cell_type": "code",
      "metadata": {
        "id": "i_7ZU2yNYD5N",
        "colab_type": "code",
        "colab": {
          "base_uri": "https://localhost:8080/",
          "height": 34
        },
        "outputId": "10d4c5eb-ebed-466b-c9f9-11367feb8aae"
      },
      "source": [
        "x=2;y=3;z=x**y; print(z)"
      ],
      "execution_count": 30,
      "outputs": [
        {
          "output_type": "stream",
          "text": [
            "8\n"
          ],
          "name": "stdout"
        }
      ]
    },
    {
      "cell_type": "code",
      "metadata": {
        "id": "lkqv6lL8YH-1",
        "colab_type": "code",
        "colab": {
          "base_uri": "https://localhost:8080/",
          "height": 34
        },
        "outputId": "c925dbf2-14a8-44bd-eb6d-6f2013ac8eb9"
      },
      "source": [
        "x=2;y=3;z=x//y; print(z) #floor division"
      ],
      "execution_count": 32,
      "outputs": [
        {
          "output_type": "stream",
          "text": [
            "0\n"
          ],
          "name": "stdout"
        }
      ]
    },
    {
      "cell_type": "code",
      "metadata": {
        "id": "xCaJwmukYQsc",
        "colab_type": "code",
        "colab": {
          "base_uri": "https://localhost:8080/",
          "height": 34
        },
        "outputId": "f45279ef-70f6-4824-92d9-4dff43ae5999"
      },
      "source": [
        "x=5;y=3;z=x//y; print(z) #floor division"
      ],
      "execution_count": 33,
      "outputs": [
        {
          "output_type": "stream",
          "text": [
            "1\n"
          ],
          "name": "stdout"
        }
      ]
    },
    {
      "cell_type": "markdown",
      "metadata": {
        "id": "ok2pcbQaYyZY",
        "colab_type": "text"
      },
      "source": [
        "## OPERACIJE POREDJENJA/RELACIJA"
      ]
    },
    {
      "cell_type": "code",
      "metadata": {
        "id": "whH6z1fDY1Z6",
        "colab_type": "code",
        "colab": {
          "base_uri": "https://localhost:8080/",
          "height": 34
        },
        "outputId": "c80e0278-5a89-4fda-e118-b5878cb83e6f"
      },
      "source": [
        "x=10; y=5\n",
        "x == y"
      ],
      "execution_count": 40,
      "outputs": [
        {
          "output_type": "execute_result",
          "data": {
            "text/plain": [
              "False"
            ]
          },
          "metadata": {
            "tags": []
          },
          "execution_count": 40
        }
      ]
    },
    {
      "cell_type": "code",
      "metadata": {
        "id": "KOS-Ga0VZJrS",
        "colab_type": "code",
        "colab": {
          "base_uri": "https://localhost:8080/",
          "height": 34
        },
        "outputId": "24eaa722-ac44-432b-e23f-38ec7064dcc1"
      },
      "source": [
        "x != y"
      ],
      "execution_count": 37,
      "outputs": [
        {
          "output_type": "execute_result",
          "data": {
            "text/plain": [
              "True"
            ]
          },
          "metadata": {
            "tags": []
          },
          "execution_count": 37
        }
      ]
    },
    {
      "cell_type": "code",
      "metadata": {
        "id": "A7_RzVmiZLL6",
        "colab_type": "code",
        "colab": {
          "base_uri": "https://localhost:8080/",
          "height": 34
        },
        "outputId": "949ce3ea-71ec-470a-da41-89f11cea763d"
      },
      "source": [
        "x > y"
      ],
      "execution_count": 38,
      "outputs": [
        {
          "output_type": "execute_result",
          "data": {
            "text/plain": [
              "True"
            ]
          },
          "metadata": {
            "tags": []
          },
          "execution_count": 38
        }
      ]
    },
    {
      "cell_type": "code",
      "metadata": {
        "id": "yhPDOlDGZMPp",
        "colab_type": "code",
        "colab": {
          "base_uri": "https://localhost:8080/",
          "height": 34
        },
        "outputId": "053199be-a74e-42c0-ce19-2fd090e965b1"
      },
      "source": [
        "x < y"
      ],
      "execution_count": 39,
      "outputs": [
        {
          "output_type": "execute_result",
          "data": {
            "text/plain": [
              "False"
            ]
          },
          "metadata": {
            "tags": []
          },
          "execution_count": 39
        }
      ]
    },
    {
      "cell_type": "code",
      "metadata": {
        "id": "pfXL8nZSZNCJ",
        "colab_type": "code",
        "colab": {}
      },
      "source": [
        ""
      ],
      "execution_count": 0,
      "outputs": []
    },
    {
      "cell_type": "markdown",
      "metadata": {
        "id": "7kSGqHyYagck",
        "colab_type": "text"
      },
      "source": [
        "## Operacije dodeljivanja"
      ]
    },
    {
      "cell_type": "code",
      "metadata": {
        "id": "PEdYo85Jai8p",
        "colab_type": "code",
        "colab": {
          "base_uri": "https://localhost:8080/",
          "height": 34
        },
        "outputId": "9e7154db-c4d1-4e3c-91e8-612fc4829743"
      },
      "source": [
        "z = x + y\n",
        "z"
      ],
      "execution_count": 41,
      "outputs": [
        {
          "output_type": "execute_result",
          "data": {
            "text/plain": [
              "15"
            ]
          },
          "metadata": {
            "tags": []
          },
          "execution_count": 41
        }
      ]
    },
    {
      "cell_type": "code",
      "metadata": {
        "id": "Ega6LOqqalm1",
        "colab_type": "code",
        "colab": {
          "base_uri": "https://localhost:8080/",
          "height": 34
        },
        "outputId": "00921c19-dc37-4f04-bbc8-eeb4c2bc103f"
      },
      "source": [
        "z += x\n",
        "z"
      ],
      "execution_count": 42,
      "outputs": [
        {
          "output_type": "execute_result",
          "data": {
            "text/plain": [
              "25"
            ]
          },
          "metadata": {
            "tags": []
          },
          "execution_count": 42
        }
      ]
    },
    {
      "cell_type": "markdown",
      "metadata": {
        "id": "y35r3deuir1h",
        "colab_type": "text"
      },
      "source": [
        "## OPERACIJE NAD BITOVIMA"
      ]
    },
    {
      "cell_type": "markdown",
      "metadata": {
        "id": "mAbBRfS8iynM",
        "colab_type": "text"
      },
      "source": [
        "And, Or, XOR, komplement jedinice, L/R shift"
      ]
    },
    {
      "cell_type": "code",
      "metadata": {
        "id": "Vjjm3j8Pi7l_",
        "colab_type": "code",
        "colab": {}
      },
      "source": [
        "x = 10; y = 4    #x=00001010 y=00000100"
      ],
      "execution_count": 0,
      "outputs": []
    },
    {
      "cell_type": "code",
      "metadata": {
        "id": "sthU6A9rjOjg",
        "colab_type": "code",
        "colab": {
          "base_uri": "https://localhost:8080/",
          "height": 34
        },
        "outputId": "b91f6d00-0dd0-413f-c78d-6b0fcec24fbf"
      },
      "source": [
        "z = x >> y #desni shift operand sa leve strane >> se binarno pomera onoliko mesta koliki je desni operand\n",
        "z"
      ],
      "execution_count": 44,
      "outputs": [
        {
          "output_type": "execute_result",
          "data": {
            "text/plain": [
              "0"
            ]
          },
          "metadata": {
            "tags": []
          },
          "execution_count": 44
        }
      ]
    },
    {
      "cell_type": "code",
      "metadata": {
        "id": "zemQnVNHj1qK",
        "colab_type": "code",
        "colab": {
          "base_uri": "https://localhost:8080/",
          "height": 34
        },
        "outputId": "c35860c0-70db-41e2-b5cd-39092463c63a"
      },
      "source": [
        "z = x << y #levi shift\n",
        "z"
      ],
      "execution_count": 46,
      "outputs": [
        {
          "output_type": "execute_result",
          "data": {
            "text/plain": [
              "160"
            ]
          },
          "metadata": {
            "tags": []
          },
          "execution_count": 46
        }
      ]
    },
    {
      "cell_type": "code",
      "metadata": {
        "id": "o8OqIyzNj6BJ",
        "colab_type": "code",
        "colab": {
          "base_uri": "https://localhost:8080/",
          "height": 34
        },
        "outputId": "92b47872-449d-4767-a84b-fb2acf0b695f"
      },
      "source": [
        "z = x & y #operacija AND\n",
        "z"
      ],
      "execution_count": 48,
      "outputs": [
        {
          "output_type": "execute_result",
          "data": {
            "text/plain": [
              "0"
            ]
          },
          "metadata": {
            "tags": []
          },
          "execution_count": 48
        }
      ]
    },
    {
      "cell_type": "code",
      "metadata": {
        "id": "Bu9tUD11kCTo",
        "colab_type": "code",
        "colab": {
          "base_uri": "https://localhost:8080/",
          "height": 34
        },
        "outputId": "38eea314-6b63-4d66-8de3-edf2820dcd7b"
      },
      "source": [
        "z = x | y #operacija OR\n",
        "z"
      ],
      "execution_count": 49,
      "outputs": [
        {
          "output_type": "execute_result",
          "data": {
            "text/plain": [
              "14"
            ]
          },
          "metadata": {
            "tags": []
          },
          "execution_count": 49
        }
      ]
    },
    {
      "cell_type": "code",
      "metadata": {
        "id": "y_Alo13YkOcW",
        "colab_type": "code",
        "colab": {
          "base_uri": "https://localhost:8080/",
          "height": 34
        },
        "outputId": "ad9857c6-0f06-4440-abcf-fbe53b2853e1"
      },
      "source": [
        "z = x ^ y #operacija XOR\n",
        "z"
      ],
      "execution_count": 50,
      "outputs": [
        {
          "output_type": "execute_result",
          "data": {
            "text/plain": [
              "14"
            ]
          },
          "metadata": {
            "tags": []
          },
          "execution_count": 50
        }
      ]
    },
    {
      "cell_type": "code",
      "metadata": {
        "id": "cRRO9B4ykXx8",
        "colab_type": "code",
        "colab": {
          "base_uri": "https://localhost:8080/",
          "height": 34
        },
        "outputId": "04cedf8d-05df-4440-c10b-a8a677bd198f"
      },
      "source": [
        "z = ~x #operacija NOT\n",
        "z"
      ],
      "execution_count": 53,
      "outputs": [
        {
          "output_type": "execute_result",
          "data": {
            "text/plain": [
              "-11"
            ]
          },
          "metadata": {
            "tags": []
          },
          "execution_count": 53
        }
      ]
    },
    {
      "cell_type": "markdown",
      "metadata": {
        "id": "_lZsP6bPlfya",
        "colab_type": "text"
      },
      "source": [
        "## Postoje logicke operacije AND OR i NOT "
      ]
    },
    {
      "cell_type": "code",
      "metadata": {
        "id": "iqX8DZPJlp4k",
        "colab_type": "code",
        "colab": {}
      },
      "source": [
        "var1 = True; var2 = False"
      ],
      "execution_count": 0,
      "outputs": []
    },
    {
      "cell_type": "code",
      "metadata": {
        "id": "PvQ9-G3aluAE",
        "colab_type": "code",
        "colab": {
          "base_uri": "https://localhost:8080/",
          "height": 34
        },
        "outputId": "8ce9a8c9-c8e1-491f-8e2e-820be1f125a4"
      },
      "source": [
        "var1 and var2"
      ],
      "execution_count": 59,
      "outputs": [
        {
          "output_type": "execute_result",
          "data": {
            "text/plain": [
              "False"
            ]
          },
          "metadata": {
            "tags": []
          },
          "execution_count": 59
        }
      ]
    },
    {
      "cell_type": "code",
      "metadata": {
        "id": "vMNsIN7jlxSE",
        "colab_type": "code",
        "colab": {
          "base_uri": "https://localhost:8080/",
          "height": 34
        },
        "outputId": "b030ddbe-a615-407a-8e0d-794aba192e2e"
      },
      "source": [
        "var1 or var2"
      ],
      "execution_count": 60,
      "outputs": [
        {
          "output_type": "execute_result",
          "data": {
            "text/plain": [
              "True"
            ]
          },
          "metadata": {
            "tags": []
          },
          "execution_count": 60
        }
      ]
    },
    {
      "cell_type": "code",
      "metadata": {
        "id": "DWku24p5l6Vb",
        "colab_type": "code",
        "colab": {
          "base_uri": "https://localhost:8080/",
          "height": 34
        },
        "outputId": "115aaa65-62d2-4961-d247-e0efe032cce3"
      },
      "source": [
        "not var1"
      ],
      "execution_count": 61,
      "outputs": [
        {
          "output_type": "execute_result",
          "data": {
            "text/plain": [
              "False"
            ]
          },
          "metadata": {
            "tags": []
          },
          "execution_count": 61
        }
      ]
    },
    {
      "cell_type": "code",
      "metadata": {
        "id": "4FOqRTaRl86j",
        "colab_type": "code",
        "colab": {}
      },
      "source": [
        ""
      ],
      "execution_count": 0,
      "outputs": []
    },
    {
      "cell_type": "markdown",
      "metadata": {
        "id": "m4SxNWlRmEa4",
        "colab_type": "text"
      },
      "source": [
        "## OPERACIJE PRIPADNOSTI (MEMBERSHIP OPERATORS)"
      ]
    },
    {
      "cell_type": "code",
      "metadata": {
        "id": "qJYmj4bamG8L",
        "colab_type": "code",
        "colab": {
          "base_uri": "https://localhost:8080/",
          "height": 34
        },
        "outputId": "9b9bbfaf-34de-4512-ec55-216317feb606"
      },
      "source": [
        "var1 = \"AOP\"; \"A\" in var1"
      ],
      "execution_count": 62,
      "outputs": [
        {
          "output_type": "execute_result",
          "data": {
            "text/plain": [
              "True"
            ]
          },
          "metadata": {
            "tags": []
          },
          "execution_count": 62
        }
      ]
    },
    {
      "cell_type": "code",
      "metadata": {
        "id": "1pZNwiEgnHVx",
        "colab_type": "code",
        "colab": {
          "base_uri": "https://localhost:8080/",
          "height": 34
        },
        "outputId": "fecb97a4-5a49-4d24-a9a0-8f42063ab095"
      },
      "source": [
        "\"B\" in var1"
      ],
      "execution_count": 63,
      "outputs": [
        {
          "output_type": "execute_result",
          "data": {
            "text/plain": [
              "False"
            ]
          },
          "metadata": {
            "tags": []
          },
          "execution_count": 63
        }
      ]
    },
    {
      "cell_type": "markdown",
      "metadata": {
        "id": "YBCsNnbonLIN",
        "colab_type": "text"
      },
      "source": [
        "## KONTROLNE STRUKTURE"
      ]
    },
    {
      "cell_type": "code",
      "metadata": {
        "id": "Nic7jTV_nM-Z",
        "colab_type": "code",
        "colab": {
          "base_uri": "https://localhost:8080/",
          "height": 34
        },
        "outputId": "0118457e-f68b-4c06-f196-b08338cf578d"
      },
      "source": [
        "#if\n",
        "var = -1\n",
        "if var < 0:\n",
        "  print(var)"
      ],
      "execution_count": 64,
      "outputs": [
        {
          "output_type": "stream",
          "text": [
            "-1\n"
          ],
          "name": "stdout"
        }
      ]
    },
    {
      "cell_type": "code",
      "metadata": {
        "id": "57kwroGDnV6J",
        "colab_type": "code",
        "colab": {
          "base_uri": "https://localhost:8080/",
          "height": 34
        },
        "outputId": "8d715ad6-8666-4215-ba7e-9e93be568064"
      },
      "source": [
        "#if-else\n",
        "var = -1\n",
        "if var < 0:\n",
        "  print(var)\n",
        "else:\n",
        "  print(-var)"
      ],
      "execution_count": 65,
      "outputs": [
        {
          "output_type": "stream",
          "text": [
            "-1\n"
          ],
          "name": "stdout"
        }
      ]
    },
    {
      "cell_type": "markdown",
      "metadata": {
        "id": "IzUB8ORpoLgx",
        "colab_type": "text"
      },
      "source": [
        "Postoje i elseif kontrolne naredbe"
      ]
    },
    {
      "cell_type": "code",
      "metadata": {
        "id": "czmX1aRDoO5e",
        "colab_type": "code",
        "colab": {}
      },
      "source": [
        ""
      ],
      "execution_count": 0,
      "outputs": []
    },
    {
      "cell_type": "markdown",
      "metadata": {
        "id": "Xt8eCNfMoPWr",
        "colab_type": "text"
      },
      "source": [
        "## ITERACIJE"
      ]
    },
    {
      "cell_type": "code",
      "metadata": {
        "id": "iI_TUS8toRE-",
        "colab_type": "code",
        "colab": {
          "base_uri": "https://localhost:8080/",
          "height": 102
        },
        "outputId": "6288c6d7-41fa-45d5-c0d6-81b05f08096e"
      },
      "source": [
        "for item in [1,2,3,4,5]:\n",
        "  print(\"Item: \", item)"
      ],
      "execution_count": 66,
      "outputs": [
        {
          "output_type": "stream",
          "text": [
            "Item:  1\n",
            "Item:  2\n",
            "Item:  3\n",
            "Item:  4\n",
            "Item:  5\n"
          ],
          "name": "stdout"
        }
      ]
    },
    {
      "cell_type": "code",
      "metadata": {
        "id": "qwBRhtg5oob-",
        "colab_type": "code",
        "colab": {
          "base_uri": "https://localhost:8080/",
          "height": 51
        },
        "outputId": "377e747b-b7f9-45a0-a1c7-957bd9b05570"
      },
      "source": [
        "AA = [\"mama\", \"tata\"]\n",
        "for index in range(len(AA)):\n",
        "  print(AA[index])"
      ],
      "execution_count": 71,
      "outputs": [
        {
          "output_type": "stream",
          "text": [
            "mama\n",
            "tata\n"
          ],
          "name": "stdout"
        }
      ]
    },
    {
      "cell_type": "code",
      "metadata": {
        "id": "pjFuy68SpP8c",
        "colab_type": "code",
        "colab": {}
      },
      "source": [
        ""
      ],
      "execution_count": 0,
      "outputs": []
    }
  ]
}